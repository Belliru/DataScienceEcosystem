{
 "cells": [
  {
   "cell_type": "markdown",
   "id": "a1e5888f-faf2-46fc-bcef-f1df83b8defe",
   "metadata": {},
   "source": [
    "# Data Science Tools and Ecosystem\n"
   ]
  },
  {
   "cell_type": "markdown",
   "id": "a88b5ffa-d328-42c6-943d-8b88e8f61452",
   "metadata": {},
   "source": [
    "In this notebook, Data Science Tools and Ecosystem are summarized."
   ]
  },
  {
   "cell_type": "markdown",
   "id": "7a93bef4-6cbf-41dd-8b15-63be3fae4275",
   "metadata": {},
   "source": [
    "Some of the popular languages that Data Scientists use are:\n",
    "\n",
    "1. Python\n",
    "2. R\n",
    "3. SQL\n",
    "4. Julia"
   ]
  },
  {
   "cell_type": "markdown",
   "id": "2bee3b34-505f-4fb4-a0dc-4008c11877a8",
   "metadata": {},
   "source": [
    "Some of the commonly used libraries used by Data Scientists include:\n",
    "\n",
    "1. Pandas\n",
    "2. NumPy\n",
    "3. Scikit-learn\n",
    "4. Matplotlib"
   ]
  },
  {
   "cell_type": "markdown",
   "id": "e50156d7-572e-471f-b7d2-82ba3f0d9bae",
   "metadata": {},
   "source": [
    "| Data Science Tools |\n",
    "|--------------------|\n",
    "| Jupyter Notebook   |\n",
    "| Apache Zeppelin    |\n",
    "| RStudio            |"
   ]
  },
  {
   "cell_type": "markdown",
   "id": "f998099f-dc97-49a3-8b79-5e75a94ba9b3",
   "metadata": {},
   "source": [
    "### Below are a few examples of evaluating arithmetic expressions in Python\n",
    "\n",
    "- Addition: `5 + 3` evaluates to `8`\n",
    "- Subtraction: `10 - 2` evaluates to `8`\n",
    "- Multiplication: `4 * 7` evaluates to `28`\n",
    "- Division: `20 / 4` evaluates to `5.0`\n",
    "- Exponentiation: `2 ** 3` evaluates to `8`\n",
    "- Modulus: `10 % 3` evaluates to `1`"
   ]
  },
  {
   "cell_type": "code",
   "execution_count": 8,
   "id": "eaf08eca-33c6-495a-984c-47f63ec201b1",
   "metadata": {},
   "outputs": [
    {
     "data": {
      "text/plain": [
       "17"
      ]
     },
     "execution_count": 8,
     "metadata": {},
     "output_type": "execute_result"
    }
   ],
   "source": [
    "# This is a simple arithmetic expression to multiply then add integers\n",
    "result = (3 * 4) + 5\n",
    "result"
   ]
  },
  {
   "cell_type": "code",
   "execution_count": 10,
   "id": "492f1807-91a5-44a0-bc1f-d9a3191fe223",
   "metadata": {},
   "outputs": [
    {
     "data": {
      "text/plain": [
       "3.3333333333333335"
      ]
     },
     "execution_count": 10,
     "metadata": {},
     "output_type": "execute_result"
    }
   ],
   "source": [
    "# This will convert 200 minutes to hours by dividing by 60\n",
    "minutes = 200\n",
    "hours = minutes / 60\n",
    "hours"
   ]
  },
  {
   "cell_type": "markdown",
   "id": "f2ccf1fc-b1ca-48d4-a227-126eff307dc3",
   "metadata": {},
   "source": [
    "**Objectives:**\n",
    "\n",
    "- List popular languages for Data Science\n",
    "- Describe commonly used libraries in Data Science\n",
    "- Provide an overview of Data Science tools\n",
    "- Demonstrate basic arithmetic operations in Python\n",
    "- Convert units of time using Python"
   ]
  },
  {
   "cell_type": "markdown",
   "id": "9b3e7482-09a5-460f-9dd5-cd6c4617c487",
   "metadata": {},
   "source": [
    "## Author\n",
    "Juan José Bellido Ruiz"
   ]
  }
 ],
 "metadata": {
  "kernelspec": {
   "display_name": "Python 3 (ipykernel)",
   "language": "python",
   "name": "python3"
  },
  "language_info": {
   "codemirror_mode": {
    "name": "ipython",
    "version": 3
   },
   "file_extension": ".py",
   "mimetype": "text/x-python",
   "name": "python",
   "nbconvert_exporter": "python",
   "pygments_lexer": "ipython3",
   "version": "3.12.4"
  }
 },
 "nbformat": 4,
 "nbformat_minor": 5
}
